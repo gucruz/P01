{
 "cells": [
  {
   "cell_type": "code",
   "execution_count": 39,
   "metadata": {},
   "outputs": [
    {
     "name": "stdout",
     "output_type": "stream",
     "text": [
      "tipo auto: 1\n"
     ]
    }
   ],
   "source": [
    "#basado en codigo de contenido en clase\n",
    "# saque gran parte de aqui: https://docs.hektorprofe.net/python/herencia-en-la-poo/ejercicios/\n",
    "\n",
    "class Vehiculo():\n",
    "    #p=1/3\n",
    "    def __init__(self, tipo):\n",
    "        self.tipo = tipo\n",
    "      \n",
    "    def __str__(self):\n",
    "        return 1\n",
    "\n",
    "class coche(Vehiculo):\n",
    "    \n",
    "    def __init__(self, tipo):\n",
    "        Vehiculo.__init__(self, tipo)\n",
    "        self.tipo = tipo\n",
    "        \n",
    "        if tipo==1:\n",
    "            tiempo_revision=1\n",
    "            #probabilidad=\n",
    "            \n",
    "        elif tipo==2: \n",
    "            tiempo_revision=2\n",
    "            #probabilidad=p\n",
    "        else:\n",
    "            tiempo_revision=3\n",
    "            #probabilidad=p\n",
    "    def __str__(self):\n",
    "        \n",
    "        return \"tipo auto: 1\" \n",
    "    \n",
    "    def __call__(self):\n",
    "        self.cola +=1\n",
    "        return \"cantidad de autos\",self.cola\n",
    "\n",
    "x=coche(1)\n",
    "print(x)\n"
   ]
  },
  {
   "cell_type": "code",
   "execution_count": null,
   "metadata": {},
   "outputs": [],
   "source": []
  },
  {
   "cell_type": "code",
   "execution_count": null,
   "metadata": {},
   "outputs": [],
   "source": []
  }
 ],
 "metadata": {
  "kernelspec": {
   "display_name": "Python 3",
   "language": "python",
   "name": "python3"
  },
  "language_info": {
   "codemirror_mode": {
    "name": "ipython",
    "version": 3
   },
   "file_extension": ".py",
   "mimetype": "text/x-python",
   "name": "python",
   "nbconvert_exporter": "python",
   "pygments_lexer": "ipython3",
   "version": "3.7.3"
  }
 },
 "nbformat": 4,
 "nbformat_minor": 2
}
